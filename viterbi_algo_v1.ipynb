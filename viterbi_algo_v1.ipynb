{
 "cells": [
  {
   "cell_type": "code",
   "execution_count": 8,
   "metadata": {},
   "outputs": [
    {
     "name": "stdout",
     "output_type": "stream",
     "text": [
      "['PATH4', 'PATH4', 'PATH1', 'PATH1', 'PATH1', 'PATH1', 'PATH1', 'PATH1', 'PATH4', 'PATH1']\n"
     ]
    }
   ],
   "source": [
    "import pandas as pd\n",
    "import numpy as np\n",
    "\n",
    "\n",
    "def forward(V, A, B, pi):\n",
    "    #We create an empty Alpha array 10 (lines) x 4 (cols)\n",
    "    alpha = np.zeros((V.shape[0], A.shape[0]))\n",
    "    alpha[0, :] = pi * B[:, V[0]]\n",
    "\n",
    "    for t in range(1, V.shape[0]):\n",
    "        for j in range(A.shape[0]):\n",
    "            \n",
    "            alpha[t, j] = alpha[t - 1].dot(A[:, j]) * B[j, V[t]]\n",
    "\n",
    "    return alpha\n",
    "\n",
    "\n",
    "def backward(V, A, B):\n",
    "    beta = np.zeros((V.shape[0], A.shape[0]))\n",
    "\n",
    "    # setting beta(T) = 1\n",
    "    beta[V.shape[0] - 1] = np.ones((A.shape[0]))\n",
    "\n",
    "    # Loop in backward way from T-1 to\n",
    "    # Due to python indexing the actual loop will be T-2 to 0\n",
    "    for t in range(V.shape[0] - 2, -1, -1):\n",
    "        for j in range(A.shape[0]):\n",
    "            beta[t, j] = (beta[t + 1] * B[:, V[t + 1]]).dot(A[j, :])\n",
    "\n",
    "    return beta\n",
    "\n",
    "\"\"\"\n",
    "def baum_welch(V, A, B, pi, n_iter=100):\n",
    "    M = A.shape[0]\n",
    "    T = len(V)\n",
    "\n",
    "    for n in range(n_iter):\n",
    "        alpha = forward(V, A, B, pi)\n",
    "        beta = backward(V, A, B)\n",
    "\n",
    "        xi = np.zeros((M, M, T - 1))\n",
    "        for t in range(T - 1):\n",
    "            denominator = np.dot(np.dot(alpha[t, :].T, A) * B[:, V[t + 1]].T, beta[t + 1, :])\n",
    "            for i in range(M):\n",
    "                numerator = alpha[t, i] * A[i, :] * B[:, V[t + 1]].T * beta[t + 1, :].T\n",
    "                xi[i, :, t] = numerator / denominator\n",
    "\n",
    "        gamma = np.sum(xi, axis=1)\n",
    "        A = np.sum(xi, 2) / np.sum(gamma, axis=1).reshape((-1, 1))\n",
    "\n",
    "        # Add additional T'th element in gamma\n",
    "        gamma = np.hstack((gamma, np.sum(xi[:, :, T - 2], axis=0).reshape((-1, 1))))\n",
    "\n",
    "        K = B.shape[1]\n",
    "        denominator = np.sum(gamma, axis=1)\n",
    "        for l in range(K):\n",
    "            B[:, l] = np.sum(gamma[:, V == l], axis=1)\n",
    "\n",
    "        B = np.divide(B, denominator.reshape((-1, 1)))\n",
    "\n",
    "    return (A, B)\n",
    "\n",
    "\"\"\"\n",
    "\n",
    "\n",
    "def viterbi(V, A, B, pi):\n",
    "    global T, M, omega, prev, S, probability\n",
    "    T = V.shape[0]\n",
    "    M = A.shape[0]\n",
    "\n",
    "    omega = np.zeros((T, M))\n",
    "    omega[0, :] = np.log(pi * B[:, V[0]])\n",
    "\n",
    "    prev = np.zeros((T - 1, M))\n",
    "\n",
    "    for t in range(1, T):\n",
    "        for j in range(M):\n",
    "            # Same as Forward Probability\n",
    "            probability = omega[t - 1] + np.log(A[:, j]) + np.log(B[j, V[t]])\n",
    "\n",
    "            # This is our most probable state given previous state at time t (1)\n",
    "            prev[t - 1, j] = np.argmax(probability)\n",
    "\n",
    "            # This is the probability of the most probable state (2)\n",
    "            omega[t, j] = np.max(probability)\n",
    "\n",
    "    # Path Array\n",
    "    S = np.zeros(T)\n",
    "\n",
    "    # Find the most probable last hidden state\n",
    "    last_state = np.argmax(omega[T - 1, :])\n",
    "\n",
    "    S[0] = last_state\n",
    "\n",
    "    backtrack_index = 1\n",
    "    for i in range(T - 2, -1, -1):\n",
    "        S[backtrack_index] = prev[i, int(last_state)]\n",
    "        last_state = prev[i, int(last_state)]\n",
    "        backtrack_index += 1\n",
    "\n",
    "    # Flip the path array since we were backtracking\n",
    "    S = np.flip(S, axis=0)\n",
    "\n",
    "    # Convert numeric values to actual hidden states\n",
    "    result = []\n",
    "    for s in S:\n",
    "        if s == 0:\n",
    "            result.append(\"PATH1\")\n",
    "        elif s == 1:\n",
    "            return result.append(\"PATH2\")\n",
    "        elif s == 2:\n",
    "            return result.append(\"PATH3\")\n",
    "        else:\n",
    "            result.append(\"PATH4\")\n",
    "\n",
    "    return result\n",
    "\n",
    "\n",
    "#states = PATH1, PATH2, PATH3, PATH4 = 0, 1, 2, 3\n",
    "\n",
    "V = np.array([3, 3, 2, 1, 2, 2, 1, 2, 3, 0])\n",
    "\n",
    "\n",
    "# Transition Probabilities\n",
    "#a = np.ones((2, 2))\n",
    "#a = a / np.sum(a, axis=1)\n",
    "A = np.array(((0.3, 0.2, 0.2, 0.3), (0.2, 0.3, 0.2, 0.3), (0.2, 0.2, 0.3, 0.3), (0.2, 0.2, 0.2, 0.4)))\n",
    "A = A / np.sum(A)\n",
    "\n",
    "# Emission Probabilities\n",
    "#b = np.array(((1, 3, 5), (2, 4, 6)))\n",
    "#b = b / np.sum(b, axis=1).reshape((-1, 1))\n",
    "B = np.array(((0.3, 0.3, 0.3, 0.1), (0.3, 0.3, 0.3, 0.1), (0.3, 0.3, 0.3, 0.1), (0.1, 0.1, 0.1, 0.7)))\n",
    "B = B / np.sum(B)\n",
    "\n",
    "# Probabilities for the initial distribution\n",
    "pi = np.array((0.2, 0.2, 0.2, 0.4))\n",
    "\n",
    "\n",
    "#a, b = baum_welch(V, a, b, initial_distribution, n_iter=100)\n",
    "\n",
    "print(viterbi(V, A, B, pi))"
   ]
  },
  {
   "cell_type": "code",
   "execution_count": 2,
   "metadata": {},
   "outputs": [
    {
     "data": {
      "text/plain": [
       "array([[ -5.29831737,  -5.29831737,  -5.29831737,  -2.65926004],\n",
       "       [ -9.34387176,  -9.34387176,  -9.34387176,  -6.70481443],\n",
       "       [-12.29081387, -12.29081387, -12.29081387, -12.69627898],\n",
       "       [-17.4713482 , -17.4713482 , -17.4713482 , -18.56996049],\n",
       "       [-22.65188254, -22.65188254, -22.65188254, -23.75049482],\n",
       "       [-27.83241687, -27.83241687, -27.83241687, -28.93102916],\n",
       "       [-33.0129512 , -33.0129512 , -33.0129512 , -34.11156349],\n",
       "       [-38.19348553, -38.19348553, -38.19348553, -39.29209782],\n",
       "       [-44.47263215, -44.47263215, -44.47263215, -42.526722  ],\n",
       "       [-48.11272144, -48.11272144, -48.11272144, -48.51818655]])"
      ]
     },
     "execution_count": 2,
     "metadata": {},
     "output_type": "execute_result"
    }
   ],
   "source": [
    "omega"
   ]
  },
  {
   "cell_type": "code",
   "execution_count": 4,
   "metadata": {
    "scrolled": true
   },
   "outputs": [
    {
     "data": {
      "text/plain": [
       "array([[3., 3., 3., 3.],\n",
       "       [3., 3., 3., 3.],\n",
       "       [0., 1., 2., 0.],\n",
       "       [0., 1., 2., 0.],\n",
       "       [0., 1., 2., 0.],\n",
       "       [0., 1., 2., 0.],\n",
       "       [0., 1., 2., 0.],\n",
       "       [0., 1., 2., 0.],\n",
       "       [3., 3., 3., 3.]])"
      ]
     },
     "execution_count": 4,
     "metadata": {},
     "output_type": "execute_result"
    }
   ],
   "source": [
    "prev"
   ]
  },
  {
   "cell_type": "code",
   "execution_count": 18,
   "metadata": {},
   "outputs": [
    {
     "data": {
      "text/plain": [
       "array([-50.75177877, -50.75177877, -50.75177877, -48.51818655])"
      ]
     },
     "execution_count": 18,
     "metadata": {},
     "output_type": "execute_result"
    }
   ],
   "source": [
    "probability"
   ]
  },
  {
   "cell_type": "code",
   "execution_count": 19,
   "metadata": {},
   "outputs": [
    {
     "data": {
      "text/plain": [
       "array([-5.29831737, -5.29831737, -5.29831737, -2.65926004])"
      ]
     },
     "execution_count": 19,
     "metadata": {},
     "output_type": "execute_result"
    }
   ],
   "source": [
    "omega[0, :]"
   ]
  },
  {
   "cell_type": "code",
   "execution_count": 3,
   "metadata": {},
   "outputs": [
    {
     "data": {
      "text/plain": [
       "array([3., 3., 0., 0., 0., 0., 0., 0., 3., 0.])"
      ]
     },
     "execution_count": 3,
     "metadata": {},
     "output_type": "execute_result"
    }
   ],
   "source": [
    "S"
   ]
  },
  {
   "cell_type": "code",
   "execution_count": 7,
   "metadata": {},
   "outputs": [
    {
     "data": {
      "text/plain": [
       "4"
      ]
     },
     "execution_count": 7,
     "metadata": {},
     "output_type": "execute_result"
    }
   ],
   "source": [
    "M"
   ]
  }
 ],
 "metadata": {
  "kernelspec": {
   "display_name": "Python 3",
   "language": "python",
   "name": "python3"
  },
  "language_info": {
   "codemirror_mode": {
    "name": "ipython",
    "version": 3
   },
   "file_extension": ".py",
   "mimetype": "text/x-python",
   "name": "python",
   "nbconvert_exporter": "python",
   "pygments_lexer": "ipython3",
   "version": "3.6.8"
  }
 },
 "nbformat": 4,
 "nbformat_minor": 2
}
