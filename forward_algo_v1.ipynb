{
 "cells": [
  {
   "cell_type": "code",
   "execution_count": 1,
   "metadata": {},
   "outputs": [
    {
     "name": "stdout",
     "output_type": "stream",
     "text": [
      "[[2.00000000e-02 2.00000000e-02 2.00000000e-02 2.80000000e-01]\n",
      " [7.00000000e-03 7.00000000e-03 7.00000000e-03 9.10000000e-02]\n",
      " [6.93000000e-03 6.93000000e-03 6.93000000e-03 4.27000000e-03]\n",
      " [1.71150000e-03 1.71150000e-03 1.71150000e-03 7.94500000e-04]\n",
      " [4.07085000e-04 4.07085000e-04 4.07085000e-04 1.85815000e-04]\n",
      " [9.66367500e-05 9.66367500e-05 9.66367500e-05 4.40702500e-05]\n",
      " [2.29379325e-05 2.29379325e-05 2.29379325e-05 1.04601175e-05]\n",
      " [5.44457288e-06 5.44457288e-06 5.44457288e-06 2.48281863e-06]\n",
      " [4.30776474e-07 4.30776474e-07 4.30776474e-07 4.12527013e-06]\n",
      " [3.37979267e-07 3.37979267e-07 3.37979267e-07 2.03780688e-07]]\n"
     ]
    }
   ],
   "source": [
    "import pandas as pd\n",
    "import numpy as np\n",
    "\n",
    "#data = pd.read_csv('data_python2.csv', index_col=0)\n",
    "#V = data['Visible'].values\n",
    "\n",
    "\n",
    "#states = PATH1, PATH2, PATH3, PATH4 = 0, 1, 2, 3\n",
    "\n",
    "V = np.array([3, 3, 2, 1, 2, 2, 1, 2, 3, 0])\n",
    "\n",
    "# Transition Probabilities\n",
    "A = np.array(((0.3, 0.2, 0.2, 0.3), (0.2, 0.3, 0.2, 0.3), (0.2, 0.2, 0.3, 0.3), (0.2, 0.2, 0.2, 0.4)))\n",
    "\n",
    "# Emission Probabilities\n",
    "B = np.array(((0.3, 0.3, 0.3, 0.1), (0.3, 0.3, 0.3, 0.1), (0.3, 0.3, 0.3, 0.1), (0.1, 0.1, 0.1, 0.7)))\n",
    "\n",
    "# Equal Probabilities for the initial distribution\n",
    "pi = np.array((0.2, 0.2, 0.2, 0.4))\n",
    "\n",
    "\n",
    "def forward(V, A, B, pi):\n",
    "    #We create an empty Alpha array 10 (lines) x 4 (cols)\n",
    "    alpha = np.zeros((V.shape[0], A.shape[0]))\n",
    "    alpha[0, :] = pi * B[:, V[0]]\n",
    "\n",
    "    for t in range(1, V.shape[0]):\n",
    "        for j in range(A.shape[0]):\n",
    "            \n",
    "            alpha[t, j] = alpha[t - 1].dot(A[:, j]) * B[j, V[t]]\n",
    "\n",
    "    return alpha\n",
    "\n",
    "\n",
    "alpha = forward(V, A, B, pi)\n",
    "print(alpha)"
   ]
  },
  {
   "cell_type": "code",
   "execution_count": 3,
   "metadata": {},
   "outputs": [
    {
     "data": {
      "text/plain": [
       "array([3, 3, 2, 1, 2, 2, 1, 2, 3, 0])"
      ]
     },
     "execution_count": 3,
     "metadata": {},
     "output_type": "execute_result"
    }
   ],
   "source": [
    "V"
   ]
  },
  {
   "cell_type": "code",
   "execution_count": 2,
   "metadata": {},
   "outputs": [],
   "source": [
    "import matplotlib"
   ]
  },
  {
   "cell_type": "code",
   "execution_count": 3,
   "metadata": {},
   "outputs": [],
   "source": [
    "from matplotlib import pyplot as plt"
   ]
  },
  {
   "cell_type": "code",
   "execution_count": 10,
   "metadata": {},
   "outputs": [
    {
     "data": {
      "image/png": "[encoded data removed]",
      "text/plain": [
       "<matplotlib.figure.Figure at 0x7f9e01171128>"
      ]
     },
     "metadata": {
      "needs_background": "light"
     },
     "output_type": "display_data"
    }
   ],
   "source": [
    "plt.figure(1) # je crée une figure dont le numéro 1\n",
    "plt.plot(alpha, '-s')\n",
    "\n",
    "plt.figure(2) # je crée une figure dont le numéro 2\n",
    "plt.show()"
   ]
  },
  {
   "cell_type": "code",
   "execution_count": null,
   "metadata": {},
   "outputs": [],
   "source": []
  }
 ],
 "metadata": {
  "kernelspec": {
   "display_name": "Python 3",
   "language": "python",
   "name": "python3"
  },
  "language_info": {
   "codemirror_mode": {
    "name": "ipython",
    "version": 3
   },
   "file_extension": ".py",
   "mimetype": "text/x-python",
   "name": "python",
   "nbconvert_exporter": "python",
   "pygments_lexer": "ipython3",
   "version": "3.6.8"
  }
 },
 "nbformat": 4,
 "nbformat_minor": 2
}
