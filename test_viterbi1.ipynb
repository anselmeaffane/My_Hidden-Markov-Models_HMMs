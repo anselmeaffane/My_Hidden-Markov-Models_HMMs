{
 "cells": [
  {
   "cell_type": "code",
   "execution_count": 30,
   "metadata": {},
   "outputs": [
    {
     "name": "stdout",
     "output_type": "stream",
     "text": [
      "          0       1       2       3\n",
      "Weigh: 0.06000 0.00540 0.00048 0.00001\n",
      "Weigh: 0.06000 0.00540 0.00048 0.00001\n",
      "Weigh: 0.06000 0.00540 0.00048 0.00001\n",
      "Weigh: 0.04000 0.00180 0.00016 0.00010\n",
      "\n"
     ]
    }
   ],
   "source": [
    "#!/usr/bin/env python\n",
    "import matplotlib\n",
    "from matplotlib import pyplot as plt\n",
    "\n",
    "states = ('Weight1', 'Weight2', 'Weight3', 'Weight4')\n",
    " \n",
    "observations = ('Path1', 'Path2', 'Path3', 'Path4')\n",
    "#observations = ('Path4', 'Path4', 'Path3', 'Path2', 'Path3', 'Path3', 'Path2', 'Path3', 'Path4', 'Path1')\n",
    " \n",
    "start_probability = {'Weight1': 0.2, 'Weight2': 0.2, 'Weight3': 0.2, 'Weight4': 0.4}\n",
    " \n",
    "transition_probability = {\n",
    "   'Weight1' : {'Weight1': 0.3, 'Weight2': 0.2, 'Weight3':0.2, 'Weight4': 0.3 },\n",
    "   'Weight2' : {'Weight1': 0.2, 'Weight2': 0.3, 'Weight3':0.2, 'Weight4': 0.3 },\n",
    "    'Weight3' : {'Weight1': 0.2, 'Weight2': 0.2, 'Weight3':0.3, 'Weight4': 0.3 },\n",
    "    'Weight4' : {'Weight1': 0.2, 'Weight2': 0.2, 'Weight3':0.2, 'Weight4': 0.4 }\n",
    "   }\n",
    " \n",
    "emission_probability = {\n",
    "   'Weight1' : {'Path1': 0.3, 'Path2': 0.3, 'Path3': 0.3, 'Path4': 0.1},\n",
    "   'Weight2' : {'Path1': 0.3, 'Path2': 0.3, 'Path3': 0.3, 'Path4': 0.1},\n",
    "    'Weight3' : {'Path1': 0.3, 'Path2': 0.3, 'Path3': 0.3, 'Path4': 0.1},\n",
    "    'Weight4' : {'Path1': 0.1, 'Path2': 0.1, 'Path3': 0.1, 'Path4': 0.7},\n",
    "   }\n",
    "\n",
    "# Helps visualize the steps of Viterbi.\n",
    "def print_dptable(V):\n",
    "    s = \"    \" + \" \".join((\"%7d\" % i) for i in range(len(V))) + \"\\n\"\n",
    "    for y in V[0]:\n",
    "        s += \"%.5s: \" % y\n",
    "        s += \" \".join(\"%.7s\" % (\"%f\" % v[y]) for v in V)\n",
    "        s += \"\\n\"\n",
    "    print(s)\n",
    " \n",
    "def viterbi(obs, states, start_p, trans_p, emit_p):\n",
    "    global V, prob, delta\n",
    "    V = [{}]\n",
    "    path = {}\n",
    "    delta = V\n",
    " \n",
    "    # Initialize base cases (t == 0)\n",
    "    for y in states:\n",
    "        V[0][y] = start_p[y] * emit_p[y][obs[0]]\n",
    "        path[y] = [y]\n",
    " \n",
    "    # alternative Python 2.7+ initialization syntax\n",
    "    # V = [{y:(start_p[y] * emit_p[y][obs[0]]) for y in states}]\n",
    "    # path = {y:[y] for y in states}\n",
    " \n",
    "    # Run Viterbi for t > 0\n",
    "    for t in range(1, len(obs)):\n",
    "        V.append({})\n",
    "        newpath = {}\n",
    " \n",
    "        for y in states:\n",
    "            (prob, state) = max((V[t-1][y0] * trans_p[y0][y] * emit_p[y][obs[t]], y0) for y0 in states)\n",
    "            V[t][y] = prob\n",
    "            newpath[y] = path[state] + [y]\n",
    " \n",
    "        # Don't need to remember the old paths\n",
    "        path = newpath\n",
    " \n",
    "    print_dptable(V)\n",
    "    (prob, state) = max((V[t][y], y) for y in states)\n",
    "    return (prob, path[state])\n",
    "\n",
    "def output():\n",
    "    return viterbi(observations,\n",
    "                   states,\n",
    "                   start_probability,\n",
    "                   transition_probability,\n",
    "                   emission_probability)\n",
    "viterbi=output()"
   ]
  },
  {
   "cell_type": "code",
   "execution_count": 31,
   "metadata": {},
   "outputs": [
    {
     "data": {
      "text/plain": [
       "(0.00010205999999999997, ['Weight3', 'Weight3', 'Weight3', 'Weight4'])"
      ]
     },
     "execution_count": 31,
     "metadata": {},
     "output_type": "execute_result"
    }
   ],
   "source": [
    "viterbi"
   ]
  },
  {
   "cell_type": "code",
   "execution_count": 32,
   "metadata": {},
   "outputs": [
    {
     "data": {
      "text/plain": [
       "0.00010205999999999997"
      ]
     },
     "execution_count": 32,
     "metadata": {},
     "output_type": "execute_result"
    }
   ],
   "source": [
    "prob"
   ]
  },
  {
   "cell_type": "code",
   "execution_count": 33,
   "metadata": {},
   "outputs": [
    {
     "data": {
      "text/plain": [
       "[{'Weight1': 0.06,\n",
       "  'Weight2': 0.06,\n",
       "  'Weight3': 0.06,\n",
       "  'Weight4': 0.04000000000000001},\n",
       " {'Weight1': 0.005399999999999999,\n",
       "  'Weight2': 0.005399999999999999,\n",
       "  'Weight3': 0.005399999999999999,\n",
       "  'Weight4': 0.0018},\n",
       " {'Weight1': 0.0004859999999999999,\n",
       "  'Weight2': 0.0004859999999999999,\n",
       "  'Weight3': 0.0004859999999999999,\n",
       "  'Weight4': 0.00016199999999999998},\n",
       " {'Weight1': 1.4579999999999998e-05,\n",
       "  'Weight2': 1.4579999999999998e-05,\n",
       "  'Weight3': 1.4579999999999998e-05,\n",
       "  'Weight4': 0.00010205999999999997}]"
      ]
     },
     "execution_count": 33,
     "metadata": {},
     "output_type": "execute_result"
    }
   ],
   "source": [
    "delta"
   ]
  },
  {
   "cell_type": "code",
   "execution_count": null,
   "metadata": {},
   "outputs": [],
   "source": []
  }
 ],
 "metadata": {
  "kernelspec": {
   "display_name": "Python 3",
   "language": "python",
   "name": "python3"
  },
  "language_info": {
   "codemirror_mode": {
    "name": "ipython",
    "version": 3
   },
   "file_extension": ".py",
   "mimetype": "text/x-python",
   "name": "python",
   "nbconvert_exporter": "python",
   "pygments_lexer": "ipython3",
   "version": "3.6.8"
  }
 },
 "nbformat": 4,
 "nbformat_minor": 2
}
