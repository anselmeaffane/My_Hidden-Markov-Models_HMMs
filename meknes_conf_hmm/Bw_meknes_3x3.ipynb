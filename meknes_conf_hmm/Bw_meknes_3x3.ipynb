{
 "cells": [
  {
   "cell_type": "code",
   "execution_count": 1,
   "metadata": {},
   "outputs": [],
   "source": [
    "import pandas as pd\n",
    "import numpy as np\n",
    "\n",
    "import matplotlib\n",
    "from matplotlib import pyplot as plt\n",
    "\n",
    "\n",
    "#states = PATH1, PATH2, PATH3 = 0, 1, 2\n",
    "\n",
    "#V = np.array([0, 1, 2, 2, 1, 0, 0, 1, 2, 0])\n",
    "V = np.array([0, 0, 1, 1, 2, 2])\n",
    "\n",
    "# Transition Probabilities\n",
    "#A = np.array(((0.571, 0.179, 0.250), (0.401, 0.528, 0.071), (0.561, 0.160, 0.279)))\n",
    "A = np.array(((0.682, 0.068, 0.250), (0.059, 0.759, 0.182), (0.214, 0.155, 0.631)))\n",
    "\n",
    "# Emission Probabilities\n",
    "#B = np.array(((0.625, 0.125, 0.25), (0.028, 0.805, 0.167), (1/8, 1/16, 13/16)))\n",
    "#B = np.array(((5./7., 1./7., 1./7.), (1./25., 24./25., 0.), (1./25., 0., 24./25.)))\n",
    "B = np.array(((5./8., 1./8., 1./4.), (1./61., 157./192., 1./6.), (1./16., 1./36., 131./144.)))\n",
    "\n",
    "# Equal Probabilities for the initial distribution\n",
    "#pi = np.array((0.303, 0.341, 0.356))\n",
    "pi = np.array((0.280, 0.314, 0.406))\n",
    "\n",
    "def forward(V, A, B, pi):\n",
    "    global alpha\n",
    "    alpha = np.zeros((V.shape[0], A.shape[0]))\n",
    "    alpha[0, :] = pi * B[:, V[0]]\n",
    "\n",
    "    for t in range(1, V.shape[0]):\n",
    "        for j in range(A.shape[0]):\n",
    "\n",
    "            alpha[t, j] = alpha[t - 1].dot(A[:, j]) * B[j, V[t]]\n",
    "\n",
    "    return alpha\n",
    "\n",
    "\n",
    "def backward(V, A, B):\n",
    "    global beta\n",
    "    beta = np.zeros((V.shape[0], A.shape[0]))\n",
    "\n",
    "    # setting beta(T) = 1\n",
    "    beta[V.shape[0] - 1] = np.ones((A.shape[0]))\n",
    "\n",
    "    # Loop in backward way from T-1 to\n",
    "    # Due to python indexing the actual loop will be T-2 to 0\n",
    "    for t in range(V.shape[0] - 2, -1, -1):\n",
    "        for j in range(A.shape[0]):\n",
    "            beta[t, j] = (beta[t + 1] * B[:, V[t + 1]]).dot(A[j, :])\n",
    "\n",
    "    return beta\n",
    "\n",
    "\n",
    "def baum_welch(V, A, B, pi, n_iter=100):\n",
    "    global gamma, numerator, denominator, xi\n",
    "    M = A.shape[0]\n",
    "    T = len(V)\n",
    "\n",
    "    for n in range(n_iter):\n",
    "        alpha = forward(V, A, B, pi)\n",
    "        beta = backward(V, A, B)\n",
    "\n",
    "        xi = np.zeros((M, M, T - 1))\n",
    "        for t in range(T - 1):\n",
    "            denominator = np.dot(np.dot(alpha[t, :].T, A) * B[:, V[t + 1]].T, beta[t + 1, :])\n",
    "            for i in range(M):\n",
    "                numerator = alpha[t, i] * A[i, :] * B[:, V[t + 1]].T * beta[t + 1, :].T\n",
    "                xi[i, :, t] = numerator / denominator\n",
    "\n",
    "        gamma = np.sum(xi, axis=1)\n",
    "        A = np.sum(xi, 2) / np.sum(gamma, axis=1).reshape((-1, 1))\n",
    "\n",
    "        # Add additional T'th element in gamma\n",
    "        gamma = np.hstack((gamma, np.sum(xi[:, :, T - 2], axis=0).reshape((-1, 1))))\n",
    "\n",
    "        K = B.shape[1]\n",
    "        denominator = np.sum(gamma, axis=1)\n",
    "        for l in range(K):\n",
    "            B[:, l] = np.sum(gamma[:, V == l], axis=1)\n",
    "\n",
    "        B = np.divide(B, denominator.reshape((-1, 1)))\n",
    "    return {\"A_hat\":A, \"B_hat\":B, \"Pi_hat\": gamma[:,0]}"
   ]
  },
  {
   "cell_type": "code",
   "execution_count": 2,
   "metadata": {},
   "outputs": [
    {
     "data": {
      "text/plain": [
       "{'A_hat': array([[0.59014994, 0.29080349, 0.11904657],\n",
       "        [0.03159304, 0.57677031, 0.39163665],\n",
       "        [0.11832686, 0.12678427, 0.75488888]]),\n",
       " 'B_hat': array([[0.72925127, 0.19087333, 0.07987539],\n",
       "        [0.02034277, 0.80770864, 0.1719486 ],\n",
       "        [0.08040263, 0.04357981, 0.87601756]]),\n",
       " 'Pi_hat': array([0.9273805 , 0.00878841, 0.06383108])}"
      ]
     },
     "execution_count": 2,
     "metadata": {},
     "output_type": "execute_result"
    }
   ],
   "source": [
    "baum_welch(V, A, B, pi, n_iter=1)"
   ]
  },
  {
   "cell_type": "code",
   "execution_count": 49,
   "metadata": {},
   "outputs": [
    {
     "data": {
      "text/plain": [
       "{'A_hat': array([[0.87748492, 0.01295527, 0.1095598 ],\n",
       "        [0.91165126, 0.05360651, 0.03474223],\n",
       "        [0.88492554, 0.01770503, 0.09736943]]),\n",
       " 'B_hat': array([[0.41014493, 0.34136941, 0.24848565],\n",
       "        [0.78979552, 0.21020448, 0.        ],\n",
       "        [0.10654666, 0.        , 0.89345334]]),\n",
       " 'Pi_hat': array([0.53475317, 0.39416723, 0.0710796 ])}"
      ]
     },
     "execution_count": 49,
     "metadata": {},
     "output_type": "execute_result"
    }
   ],
   "source": [
    "baum_welch(V, A, B, pi, n_iter=2)"
   ]
  },
  {
   "cell_type": "code",
   "execution_count": 3,
   "metadata": {},
   "outputs": [
    {
     "data": {
      "text/plain": [
       "{'A_hat': array([[8.21783182e-01, 1.45954055e-02, 1.63621412e-01],\n",
       "        [9.98560495e-01, 1.43171283e-03, 7.79208236e-06],\n",
       "        [9.15074687e-01, 1.47527742e-02, 7.01725392e-02]]),\n",
       " 'B_hat': array([[0.35848839, 0.3826689 , 0.2588427 ],\n",
       "        [0.99881539, 0.00118461, 0.        ],\n",
       "        [0.29252822, 0.        , 0.70747178]]),\n",
       " 'Pi_hat': array([0.18747245, 0.66804596, 0.14448159])}"
      ]
     },
     "execution_count": 3,
     "metadata": {},
     "output_type": "execute_result"
    }
   ],
   "source": [
    "baum_welch(V, A, B, pi, n_iter=5)"
   ]
  },
  {
   "cell_type": "code",
   "execution_count": 29,
   "metadata": {},
   "outputs": [
    {
     "data": {
      "text/plain": [
       "{'A_hat': array([[9.99999987e-001, 6.71847722e-014, 1.31617802e-008],\n",
       "        [1.00000000e+000, 2.19211172e-115, 7.69527435e-118],\n",
       "        [1.00000000e+000, 9.01932542e-074, 7.47681502e-070]]),\n",
       " 'B_hat': array([[3.42803960e-001, 3.28598020e-001, 3.28598020e-001],\n",
       "        [1.00000000e+000, 9.72262592e-116, 0.00000000e+000],\n",
       "        [1.00000000e+000, 0.00000000e+000, 9.81666974e-064]]),\n",
       " 'Pi_hat': array([0.12969602, 0.42578717, 0.44451681])}"
      ]
     },
     "execution_count": 29,
     "metadata": {},
     "output_type": "execute_result"
    }
   ],
   "source": [
    "baum_welch(V, A, B, pi, n_iter=10)"
   ]
  },
  {
   "cell_type": "code",
   "execution_count": 31,
   "metadata": {},
   "outputs": [
    {
     "data": {
      "text/plain": [
       "{'A_hat': array([[9.99999906e-01, 1.90801523e-13, 9.40088605e-08],\n",
       "        [1.00000000e+00, 0.00000000e+00, 0.00000000e+00],\n",
       "        [1.00000000e+00, 0.00000000e+00, 0.00000000e+00]]),\n",
       " 'B_hat': array([[0.34280391, 0.32859804, 0.32859804],\n",
       "        [1.        , 0.        , 0.        ],\n",
       "        [1.        , 0.        , 0.        ]]),\n",
       " 'Pi_hat': array([0.129696  , 0.42578718, 0.44451682])}"
      ]
     },
     "execution_count": 31,
     "metadata": {},
     "output_type": "execute_result"
    }
   ],
   "source": [
    "baum_welch(V, A, B, pi, n_iter=50)\n"
   ]
  },
  {
   "cell_type": "code",
   "execution_count": 27,
   "metadata": {},
   "outputs": [
    {
     "data": {
      "text/plain": [
       "{'A_hat': array([[9.99973281e-01, 3.41971526e-10, 2.67188056e-05],\n",
       "        [1.00000000e+00, 0.00000000e+00, 0.00000000e+00],\n",
       "        [1.00000000e+00, 0.00000000e+00, 0.00000000e+00]]),\n",
       " 'B_hat': array([[0.34278777, 0.32860611, 0.32860611],\n",
       "        [1.        , 0.        , 0.        ],\n",
       "        [1.        , 0.        , 0.        ]]),\n",
       " 'Pi_hat': array([0.12968827, 0.42579096, 0.44452077])}"
      ]
     },
     "execution_count": 27,
     "metadata": {},
     "output_type": "execute_result"
    }
   ],
   "source": [
    "baum_welch(V, A, B, pi, n_iter=100)"
   ]
  },
  {
   "cell_type": "code",
   "execution_count": 26,
   "metadata": {},
   "outputs": [
    {
     "data": {
      "text/plain": [
       "{'A_hat': array([[9.13783677e-01, 1.74376327e-06, 8.62145789e-02],\n",
       "        [1.00000000e+00, 0.00000000e+00, 0.00000000e+00],\n",
       "        [1.00000000e+00, 0.00000000e+00, 0.00000000e+00]]),\n",
       " 'B_hat': array([[0.28912734, 0.35543633, 0.35543633],\n",
       "        [1.        , 0.        , 0.        ],\n",
       "        [1.        , 0.        , 0.        ]]),\n",
       " 'Pi_hat': array([0.10302077, 0.43883776, 0.45814147])}"
      ]
     },
     "execution_count": 26,
     "metadata": {},
     "output_type": "execute_result"
    }
   ],
   "source": [
    "baum_welch(V, A, B, pi, n_iter=500)"
   ]
  },
  {
   "cell_type": "code",
   "execution_count": 25,
   "metadata": {},
   "outputs": [
    {
     "data": {
      "text/plain": [
       "{'A_hat': array([[9.13783677e-01, 2.74981838e-06, 8.62135728e-02],\n",
       "        [1.00000000e+00, 0.00000000e+00, 0.00000000e+00],\n",
       "        [1.00000000e+00, 0.00000000e+00, 0.00000000e+00]]),\n",
       " 'B_hat': array([[0.28912734, 0.35543633, 0.35543633],\n",
       "        [1.        , 0.        , 0.        ],\n",
       "        [1.        , 0.        , 0.        ]]),\n",
       " 'Pi_hat': array([0.10302077, 0.43883776, 0.45814147])}"
      ]
     },
     "execution_count": 25,
     "metadata": {},
     "output_type": "execute_result"
    }
   ],
   "source": [
    "baum_welch(V, A, B, pi, n_iter=1000)"
   ]
  },
  {
   "cell_type": "code",
   "execution_count": 24,
   "metadata": {},
   "outputs": [
    {
     "data": {
      "text/plain": [
       "{'A_hat': array([[9.13783677e-01, 4.32349122e-06, 8.62119992e-02],\n",
       "        [1.00000000e+00, 0.00000000e+00, 0.00000000e+00],\n",
       "        [1.00000000e+00, 0.00000000e+00, 0.00000000e+00]]),\n",
       " 'B_hat': array([[0.28912734, 0.35543633, 0.35543633],\n",
       "        [1.        , 0.        , 0.        ],\n",
       "        [1.        , 0.        , 0.        ]]),\n",
       " 'Pi_hat': array([0.10302077, 0.43883776, 0.45814147])}"
      ]
     },
     "execution_count": 24,
     "metadata": {},
     "output_type": "execute_result"
    }
   ],
   "source": [
    "baum_welch(V, A, B, pi, n_iter=1500)"
   ]
  },
  {
   "cell_type": "code",
   "execution_count": 23,
   "metadata": {},
   "outputs": [
    {
     "data": {
      "text/plain": [
       "{'A_hat': array([[9.13783677e-01, 6.76965149e-06, 8.62095530e-02],\n",
       "        [1.00000000e+00, 0.00000000e+00, 0.00000000e+00],\n",
       "        [1.00000000e+00, 0.00000000e+00, 0.00000000e+00]]),\n",
       " 'B_hat': array([[0.28912734, 0.35543633, 0.35543633],\n",
       "        [1.        , 0.        , 0.        ],\n",
       "        [1.        , 0.        , 0.        ]]),\n",
       " 'Pi_hat': array([0.10302077, 0.43883776, 0.45814147])}"
      ]
     },
     "execution_count": 23,
     "metadata": {},
     "output_type": "execute_result"
    }
   ],
   "source": [
    "baum_welch(V, A, B, pi, n_iter=2000)"
   ]
  },
  {
   "cell_type": "code",
   "execution_count": 22,
   "metadata": {},
   "outputs": [
    {
     "data": {
      "text/plain": [
       "{'A_hat': array([[9.13783677e-01, 1.05390393e-05, 8.62057836e-02],\n",
       "        [1.00000000e+00, 0.00000000e+00, 0.00000000e+00],\n",
       "        [1.00000000e+00, 0.00000000e+00, 0.00000000e+00]]),\n",
       " 'B_hat': array([[0.28912734, 0.35543633, 0.35543633],\n",
       "        [1.        , 0.        , 0.        ],\n",
       "        [1.        , 0.        , 0.        ]]),\n",
       " 'Pi_hat': array([0.10302077, 0.43883776, 0.45814147])}"
      ]
     },
     "execution_count": 22,
     "metadata": {},
     "output_type": "execute_result"
    }
   ],
   "source": [
    "baum_welch(V, A, B, pi, n_iter=2500)"
   ]
  },
  {
   "cell_type": "code",
   "execution_count": 21,
   "metadata": {},
   "outputs": [
    {
     "data": {
      "text/plain": [
       "{'A_hat': array([[9.13783677e-01, 1.62782094e-05, 8.62000444e-02],\n",
       "        [1.00000000e+00, 0.00000000e+00, 0.00000000e+00],\n",
       "        [1.00000000e+00, 0.00000000e+00, 0.00000000e+00]]),\n",
       " 'B_hat': array([[0.28912734, 0.35543633, 0.35543633],\n",
       "        [1.        , 0.        , 0.        ],\n",
       "        [1.        , 0.        , 0.        ]]),\n",
       " 'Pi_hat': array([0.10302077, 0.43883776, 0.45814147])}"
      ]
     },
     "execution_count": 21,
     "metadata": {},
     "output_type": "execute_result"
    }
   ],
   "source": [
    "baum_welch(V, A, B, pi, n_iter=3000)"
   ]
  },
  {
   "cell_type": "code",
   "execution_count": 20,
   "metadata": {},
   "outputs": [
    {
     "data": {
      "text/plain": [
       "{'A_hat': array([[9.13783677e-01, 2.48755414e-05, 8.61914471e-02],\n",
       "        [1.00000000e+00, 0.00000000e+00, 0.00000000e+00],\n",
       "        [1.00000000e+00, 0.00000000e+00, 0.00000000e+00]]),\n",
       " 'B_hat': array([[0.28912734, 0.35543633, 0.35543633],\n",
       "        [1.        , 0.        , 0.        ],\n",
       "        [1.        , 0.        , 0.        ]]),\n",
       " 'Pi_hat': array([0.10302077, 0.43883776, 0.45814147])}"
      ]
     },
     "execution_count": 20,
     "metadata": {},
     "output_type": "execute_result"
    }
   ],
   "source": [
    "baum_welch(V, A, B, pi, n_iter=4000)"
   ]
  },
  {
   "cell_type": "code",
   "execution_count": 19,
   "metadata": {},
   "outputs": [
    {
     "data": {
      "text/plain": [
       "{'A_hat': array([[9.13783677e-01, 3.74788927e-05, 8.61788438e-02],\n",
       "        [1.00000000e+00, 0.00000000e+00, 0.00000000e+00],\n",
       "        [1.00000000e+00, 0.00000000e+00, 0.00000000e+00]]),\n",
       " 'B_hat': array([[0.28912734, 0.35543633, 0.35543633],\n",
       "        [1.        , 0.        , 0.        ],\n",
       "        [1.        , 0.        , 0.        ]]),\n",
       " 'Pi_hat': array([0.10302077, 0.43883776, 0.45814147])}"
      ]
     },
     "execution_count": 19,
     "metadata": {},
     "output_type": "execute_result"
    }
   ],
   "source": [
    "baum_welch(V, A, B, pi, n_iter=5000)"
   ]
  },
  {
   "cell_type": "code",
   "execution_count": 33,
   "metadata": {},
   "outputs": [
    {
     "data": {
      "text/plain": [
       "{'A_hat': array([[9.13783677e-01, 6.94707484e-08, 8.62162532e-02],\n",
       "        [1.00000000e+00, 0.00000000e+00, 0.00000000e+00],\n",
       "        [1.00000000e+00, 0.00000000e+00, 0.00000000e+00]]),\n",
       " 'B_hat': array([[0.28912734, 0.35543633, 0.35543633],\n",
       "        [1.        , 0.        , 0.        ],\n",
       "        [1.        , 0.        , 0.        ]]),\n",
       " 'Pi_hat': array([0.10302077, 0.43883776, 0.45814147])}"
      ]
     },
     "execution_count": 33,
     "metadata": {},
     "output_type": "execute_result"
    }
   ],
   "source": [
    "baum_welch(V, A, B, pi, n_iter=10000)"
   ]
  },
  {
   "cell_type": "code",
   "execution_count": 34,
   "metadata": {},
   "outputs": [
    {
     "data": {
      "text/plain": [
       "{'A_hat': array([[9.13783677e-01, 4.37589998e-08, 8.62162789e-02],\n",
       "        [1.00000000e+00, 0.00000000e+00, 0.00000000e+00],\n",
       "        [1.00000000e+00, 0.00000000e+00, 0.00000000e+00]]),\n",
       " 'B_hat': array([[0.28912734, 0.35543633, 0.35543633],\n",
       "        [1.        , 0.        , 0.        ],\n",
       "        [1.        , 0.        , 0.        ]]),\n",
       " 'Pi_hat': array([0.10302077, 0.43883776, 0.45814147])}"
      ]
     },
     "execution_count": 34,
     "metadata": {},
     "output_type": "execute_result"
    }
   ],
   "source": [
    "baum_welch(V, A, B, pi, n_iter=15000)"
   ]
  },
  {
   "cell_type": "code",
   "execution_count": 39,
   "metadata": {},
   "outputs": [
    {
     "data": {
      "text/plain": [
       "{'A_hat': array([[9.13783677e-01, 4.33340847e-09, 8.62163183e-02],\n",
       "        [1.00000000e+00, 0.00000000e+00, 0.00000000e+00],\n",
       "        [1.00000000e+00, 0.00000000e+00, 0.00000000e+00]]),\n",
       " 'B_hat': array([[0.28912734, 0.35543633, 0.35543633],\n",
       "        [1.        , 0.        , 0.        ],\n",
       "        [1.        , 0.        , 0.        ]]),\n",
       " 'Pi_hat': array([0.10302077, 0.43883776, 0.45814147])}"
      ]
     },
     "execution_count": 39,
     "metadata": {},
     "output_type": "execute_result"
    }
   ],
   "source": [
    "baum_welch(V, A, B, pi, n_iter=20000)"
   ]
  },
  {
   "cell_type": "code",
   "execution_count": 36,
   "metadata": {},
   "outputs": [
    {
     "data": {
      "text/plain": [
       "{'A_hat': array([[9.13783677e-01, 1.73559696e-08, 8.62163053e-02],\n",
       "        [1.00000000e+00, 0.00000000e+00, 0.00000000e+00],\n",
       "        [1.00000000e+00, 0.00000000e+00, 0.00000000e+00]]),\n",
       " 'B_hat': array([[0.28912734, 0.35543633, 0.35543633],\n",
       "        [1.        , 0.        , 0.        ],\n",
       "        [1.        , 0.        , 0.        ]]),\n",
       " 'Pi_hat': array([0.10302077, 0.43883776, 0.45814147])}"
      ]
     },
     "execution_count": 36,
     "metadata": {},
     "output_type": "execute_result"
    }
   ],
   "source": [
    "baum_welch(V, A, B, pi, n_iter=25000)"
   ]
  },
  {
   "cell_type": "code",
   "execution_count": 37,
   "metadata": {},
   "outputs": [
    {
     "data": {
      "text/plain": [
       "{'A_hat': array([[9.13783677e-01, 1.09293165e-08, 8.62163117e-02],\n",
       "        [1.00000000e+00, 0.00000000e+00, 0.00000000e+00],\n",
       "        [1.00000000e+00, 0.00000000e+00, 0.00000000e+00]]),\n",
       " 'B_hat': array([[0.28912734, 0.35543633, 0.35543633],\n",
       "        [1.        , 0.        , 0.        ],\n",
       "        [1.        , 0.        , 0.        ]]),\n",
       " 'Pi_hat': array([0.10302077, 0.43883776, 0.45814147])}"
      ]
     },
     "execution_count": 37,
     "metadata": {},
     "output_type": "execute_result"
    }
   ],
   "source": [
    "baum_welch(V, A, B, pi, n_iter=50000)"
   ]
  },
  {
   "cell_type": "code",
   "execution_count": 38,
   "metadata": {},
   "outputs": [
    {
     "data": {
      "text/plain": [
       "{'A_hat': array([[9.13783677e-01, 6.88205310e-09, 8.62163158e-02],\n",
       "        [1.00000000e+00, 0.00000000e+00, 0.00000000e+00],\n",
       "        [1.00000000e+00, 0.00000000e+00, 0.00000000e+00]]),\n",
       " 'B_hat': array([[0.28912734, 0.35543633, 0.35543633],\n",
       "        [1.        , 0.        , 0.        ],\n",
       "        [1.        , 0.        , 0.        ]]),\n",
       " 'Pi_hat': array([0.10302077, 0.43883776, 0.45814147])}"
      ]
     },
     "execution_count": 38,
     "metadata": {},
     "output_type": "execute_result"
    }
   ],
   "source": [
    "baum_welch(V, A, B, pi, n_iter=100000)"
   ]
  },
  {
   "cell_type": "code",
   "execution_count": null,
   "metadata": {},
   "outputs": [],
   "source": []
  }
 ],
 "metadata": {
  "kernelspec": {
   "display_name": "Python 3",
   "language": "python",
   "name": "python3"
  },
  "language_info": {
   "codemirror_mode": {
    "name": "ipython",
    "version": 3
   },
   "file_extension": ".py",
   "mimetype": "text/x-python",
   "name": "python",
   "nbconvert_exporter": "python",
   "pygments_lexer": "ipython3",
   "version": "3.6.9"
  }
 },
 "nbformat": 4,
 "nbformat_minor": 2
}
