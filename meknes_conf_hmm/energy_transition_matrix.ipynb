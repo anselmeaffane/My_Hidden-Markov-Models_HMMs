{
 "cells": [
  {
   "cell_type": "code",
   "execution_count": 152,
   "metadata": {},
   "outputs": [
    {
     "name": "stdout",
     "output_type": "stream",
     "text": [
      "[[nan  1.  1.]\n",
      " [ 1. nan  1.]\n",
      " [ 1.  1. nan]]\n"
     ]
    },
    {
     "name": "stderr",
     "output_type": "stream",
     "text": [
      "/home/affane/.local/lib/python3.6/site-packages/ipykernel_launcher.py:14: RuntimeWarning: invalid value encountered in double_scalars\n",
      "  \n"
     ]
    }
   ],
   "source": [
    "import numpy as np\n",
    "\n",
    "min_em1 = 3.5\n",
    "min_em2 = 3.65\n",
    "min_em3 = 3.81\n",
    "\n",
    "def tansition_matrix(min_em1, min_em2, min_me3):\n",
    "    #We create an empty array  i(lines) x j(cols)\n",
    "    min_em = np.array([min_em1, min_em2, min_em3])\n",
    "    matrix = np.zeros((len(min_em), len(min_em)))\n",
    "    for i in range(0, len(min_em-1)):\n",
    "            for j in range(len(min_em)):\n",
    "                #if(i != j & min_em[i] > min_em[j]):\n",
    "                    matrix[i, j] = abs(min_em[i] - min_em[j]) / np.sum(abs(min_em[i]-min_em[j]))\n",
    "                    #matrix[i, j] = 2*(abs(min_em[0]-min_em[1])^2) + abs(min_em[0]-min_em[2])^2 + abs(min_em[1]-min_em[2])^2\n",
    "\n",
    "\n",
    "    return matrix\n",
    "\n",
    "matrix = tansition_matrix(min_em1, min_em2, min_em3)\n",
    "\n",
    "print(matrix)"
   ]
  },
  {
   "cell_type": "code",
   "execution_count": 153,
   "metadata": {},
   "outputs": [
    {
     "name": "stderr",
     "output_type": "stream",
     "text": [
      "/home/affane/.local/lib/python3.6/site-packages/ipykernel_launcher.py:5: RuntimeWarning: divide by zero encountered in long_scalars\n",
      "  \"\"\"\n"
     ]
    }
   ],
   "source": [
    "for i in range(0, len(min_em-1)):\n",
    "            for j in range(len(min_em)):\n",
    "                if(i != j):\n",
    "                    if(min_em[i] > min_em[j]):\n",
    "                        matrix[i, j] = abs(min_em[i] - min_em[j]) / np.sum(abs(min_em[i]-min_em[j])^2)\n",
    "                "
   ]
  },
  {
   "cell_type": "code",
   "execution_count": 154,
   "metadata": {},
   "outputs": [
    {
     "data": {
      "text/plain": [
       "array([[       nan,        inf, 1.        ],\n",
       "       [1.        ,        nan, 1.        ],\n",
       "       [       inf, 0.66666667,        nan]])"
      ]
     },
     "execution_count": 154,
     "metadata": {},
     "output_type": "execute_result"
    }
   ],
   "source": [
    "matrix"
   ]
  },
  {
   "cell_type": "code",
   "execution_count": 102,
   "metadata": {},
   "outputs": [
    {
     "data": {
      "text/plain": [
       "array([5, 3, 7])"
      ]
     },
     "execution_count": 102,
     "metadata": {},
     "output_type": "execute_result"
    }
   ],
   "source": [
    "min_em1 = 5\n",
    "min_em2 = 3\n",
    "min_em3 = 7\n",
    "min_em = np.array([min_em1, min_em2, min_em3])\n",
    "min_em"
   ]
  },
  {
   "cell_type": "code",
   "execution_count": null,
   "metadata": {},
   "outputs": [],
   "source": []
  }
 ],
 "metadata": {
  "kernelspec": {
   "display_name": "Python 3",
   "language": "python",
   "name": "python3"
  },
  "language_info": {
   "codemirror_mode": {
    "name": "ipython",
    "version": 3
   },
   "file_extension": ".py",
   "mimetype": "text/x-python",
   "name": "python",
   "nbconvert_exporter": "python",
   "pygments_lexer": "ipython3",
   "version": "3.6.9"
  }
 },
 "nbformat": 4,
 "nbformat_minor": 2
}
