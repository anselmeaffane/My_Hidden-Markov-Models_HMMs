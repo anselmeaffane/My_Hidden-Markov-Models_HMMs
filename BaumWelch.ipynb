{
 "cells": [
  {
   "cell_type": "code",
   "execution_count": 109,
   "metadata": {
    "scrolled": true
   },
   "outputs": [
    {
     "data": {
      "text/plain": [
       "{'A_hat': array([[0.33137496, 0.22091664, 0.22091664, 0.22679177],\n",
       "        [0.22091664, 0.33137496, 0.22091664, 0.22679177],\n",
       "        [0.22091664, 0.22091664, 0.33137496, 0.22679177],\n",
       "        [0.20838237, 0.20838237, 0.20838237, 0.37485288]]),\n",
       " 'B_hat': array([[0.12546498, 0.26411403, 0.51887847, 0.09154252],\n",
       "        [0.12546498, 0.26411403, 0.51887847, 0.09154252],\n",
       "        [0.12546498, 0.26411403, 0.51887847, 0.09154252],\n",
       "        [0.04975425, 0.07349461, 0.1654372 , 0.71131393]]),\n",
       " 'Pi_hat': array([0.05029605, 0.05029605, 0.05029605, 0.84911184])}"
      ]
     },
     "execution_count": 109,
     "metadata": {},
     "output_type": "execute_result"
    }
   ],
   "source": [
    "import pandas as pd\n",
    "import numpy as np\n",
    "\n",
    "\n",
    "import matplotlib\n",
    "from matplotlib import pyplot as plt\n",
    "\n",
    "\n",
    "#states = PATH1, PATH2, PATH3, PATH4 = 0, 1, 2, 3\n",
    "\n",
    "V = np.array([3, 3, 2, 1, 2, 2, 1, 2, 3, 0])\n",
    "\n",
    "# Transition Probabilities\n",
    "A = np.array(((0.3, 0.2, 0.2, 0.3), (0.2, 0.3, 0.2, 0.3), (0.2, 0.2, 0.3, 0.3), (0.2, 0.2, 0.2, 0.4)))\n",
    "A = A / np.sum(A)\n",
    "\n",
    "# Emission Probabilities\n",
    "B = np.array(((0.3, 0.3, 0.3, 0.1), (0.3, 0.3, 0.3, 0.1), (0.3, 0.3, 0.3, 0.1), (0.1, 0.1, 0.1, 0.7)))\n",
    "B = B / np.sum(B).reshape((-1, 1))\n",
    "\n",
    "# Probabilities for the initial distribution\n",
    "pi = np.array((0.2, 0.2, 0.2, 0.4))\n",
    "\n",
    "def forward(V, A, B, pi):\n",
    "    global alpha\n",
    "    alpha = np.zeros((V.shape[0], A.shape[0]))\n",
    "    alpha[0, :] = pi * B[:, V[0]]\n",
    "\n",
    "    for t in range(1, V.shape[0]):\n",
    "        for j in range(A.shape[0]):\n",
    "\n",
    "            alpha[t, j] = alpha[t - 1].dot(A[:, j]) * B[j, V[t]]\n",
    "\n",
    "    return alpha\n",
    "\n",
    "\n",
    "def backward(V, A, B):\n",
    "    global beta\n",
    "    beta = np.zeros((V.shape[0], A.shape[0]))\n",
    "\n",
    "    # setting beta(T) = 1\n",
    "    beta[V.shape[0] - 1] = np.ones((A.shape[0]))\n",
    "\n",
    "    # Loop in backward way from T-1 to\n",
    "    # Due to python indexing the actual loop will be T-2 to 0\n",
    "    for t in range(V.shape[0] - 2, -1, -1):\n",
    "        for j in range(A.shape[0]):\n",
    "            beta[t, j] = (beta[t + 1] * B[:, V[t + 1]]).dot(A[j, :])\n",
    "\n",
    "    return beta\n",
    "\n",
    "\n",
    "def baum_welch(V, A, B, pi, n_iter=100):\n",
    "    global gamma, numerator, denominator, xi\n",
    "    M = A.shape[0]\n",
    "    T = len(V)\n",
    "\n",
    "    for n in range(n_iter):\n",
    "        alpha = forward(V, A, B, pi)\n",
    "        beta = backward(V, A, B)\n",
    "\n",
    "        xi = np.zeros((M, M, T - 1))\n",
    "        for t in range(T - 1):\n",
    "            denominator = np.dot(np.dot(alpha[t, :].T, A) * B[:, V[t + 1]].T, beta[t + 1, :])\n",
    "            for i in range(M):\n",
    "                numerator = alpha[t, i] * A[i, :] * B[:, V[t + 1]].T * beta[t + 1, :].T\n",
    "                xi[i, :, t] = numerator / denominator\n",
    "\n",
    "        gamma = np.sum(xi, axis=1)\n",
    "        A = np.sum(xi, 2) / np.sum(gamma, axis=1).reshape((-1, 1))\n",
    "\n",
    "        # Add additional T'th element in gamma\n",
    "        gamma = np.hstack((gamma, np.sum(xi[:, :, T - 2], axis=0).reshape((-1, 1))))\n",
    "\n",
    "        K = B.shape[1]\n",
    "        denominator = np.sum(gamma, axis=1)\n",
    "        for l in range(K):\n",
    "            B[:, l] = np.sum(gamma[:, V == l], axis=1)\n",
    "\n",
    "        B = np.divide(B, denominator.reshape((-1, 1)))\n",
    "\n",
    "    return {\"A_hat\":A, \"B_hat\":B, \"Pi_hat\": gamma[:,0]}\n",
    "\n",
    "baum_welch(V, A, B, pi, n_iter=1)"
   ]
  },
  {
   "cell_type": "code",
   "execution_count": 115,
   "metadata": {},
   "outputs": [
    {
     "data": {
      "text/plain": [
       "array([[0.05029605, 0.05029605, 0.05029605, 0.84911184],\n",
       "       [0.06731086, 0.06731086, 0.06731086, 0.79806743],\n",
       "       [0.28074427, 0.28074427, 0.28074427, 0.1577672 ],\n",
       "       [0.29210906, 0.29210906, 0.29210906, 0.12367281],\n",
       "       [0.29271264, 0.29271264, 0.29271264, 0.12186209],\n",
       "       [0.29271515, 0.29271515, 0.29271515, 0.12185454],\n",
       "       [0.29215893, 0.29215893, 0.29215893, 0.1235232 ],\n",
       "       [0.28168094, 0.28168094, 0.28168094, 0.15495717],\n",
       "       [0.08490169, 0.08490169, 0.08490169, 0.74529494],\n",
       "       [0.27755123, 0.27755123, 0.27755123, 0.1673463 ]])"
      ]
     },
     "execution_count": 115,
     "metadata": {},
     "output_type": "execute_result"
    }
   ],
   "source": [
    "gamma.T"
   ]
  },
  {
   "cell_type": "code",
   "execution_count": 114,
   "metadata": {},
   "outputs": [
    {
     "data": {
      "text/plain": [
       "array([0.27755123, 0.27755123, 0.27755123, 0.1673463 ])"
      ]
     },
     "execution_count": 114,
     "metadata": {},
     "output_type": "execute_result"
    }
   ],
   "source": [
    "gamma[:,9]"
   ]
  },
  {
   "cell_type": "code",
   "execution_count": null,
   "metadata": {},
   "outputs": [],
   "source": []
  }
 ],
 "metadata": {
  "kernelspec": {
   "display_name": "Python 3",
   "language": "python",
   "name": "python3"
  },
  "language_info": {
   "codemirror_mode": {
    "name": "ipython",
    "version": 3
   },
   "file_extension": ".py",
   "mimetype": "text/x-python",
   "name": "python",
   "nbconvert_exporter": "python",
   "pygments_lexer": "ipython3",
   "version": "3.6.8"
  }
 },
 "nbformat": 4,
 "nbformat_minor": 2
}
