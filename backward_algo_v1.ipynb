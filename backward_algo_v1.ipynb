{
 "cells": [
  {
   "cell_type": "code",
   "execution_count": 1,
   "metadata": {},
   "outputs": [
    {
     "name": "stdout",
     "output_type": "stream",
     "text": [
      "[[3.06232167e-06 3.06232167e-06 3.06232167e-06 3.69278282e-06]\n",
      " [1.17093821e-05 1.17093821e-05 1.17093821e-05 1.06793567e-05]\n",
      " [4.93315275e-05 4.93315275e-05 4.93315275e-05 4.49920450e-05]\n",
      " [2.07833250e-04 2.07833250e-04 2.07833250e-04 1.89551500e-04]\n",
      " [8.75595000e-04 8.75595000e-04 8.75595000e-04 7.98610000e-04]\n",
      " [3.68850000e-03 3.68850000e-03 3.68850000e-03 3.36700000e-03]\n",
      " [1.55100000e-02 1.55100000e-02 1.55100000e-02 1.43800000e-02]\n",
      " [6.30000000e-02 6.30000000e-02 6.30000000e-02 7.60000000e-02]\n",
      " [2.40000000e-01 2.40000000e-01 2.40000000e-01 2.20000000e-01]\n",
      " [1.00000000e+00 1.00000000e+00 1.00000000e+00 1.00000000e+00]]\n"
     ]
    }
   ],
   "source": [
    "import pandas as pd\n",
    "import numpy as np\n",
    "\n",
    "#data = pd.read_csv('data_python2.csv', index_col=0)\n",
    "#V = data['Visible'].values\n",
    "\n",
    "\n",
    "#states = PATH1, PATH2, PATH3, PATH4 = 0, 1, 2, 3\n",
    "\n",
    "V = np.array([3, 3, 2, 1, 2, 2, 1, 2, 3, 0])\n",
    "\n",
    "# Transition Probabilities\n",
    "A = np.array(((0.3, 0.2, 0.2, 0.3), (0.2, 0.3, 0.2, 0.3), (0.2, 0.2, 0.3, 0.3), (0.2, 0.2, 0.2, 0.4)))\n",
    "\n",
    "# Emission Probabilities\n",
    "B = np.array(((0.3, 0.3, 0.3, 0.1), (0.3, 0.3, 0.3, 0.1), (0.3, 0.3, 0.3, 0.1), (0.1, 0.1, 0.1, 0.7)))\n",
    "\n",
    "# Equal Probabilities for the initial distribution\n",
    "pi = np.array((0.2, 0.2, 0.2, 0.4))\n",
    "\n",
    "\n",
    "def backward(V, A, B):\n",
    "    beta = np.zeros((V.shape[0], A.shape[0]))\n",
    "\n",
    "    # setting beta(T) = 1\n",
    "    beta[V.shape[0] - 1] = np.ones((A.shape[0]))\n",
    "\n",
    "    # Loop in backward way from T-1 to\n",
    "    # Due to python indexing the actual loop will be T-2 to 0\n",
    "    for t in range(V.shape[0] - 2, -1, -1):\n",
    "        for j in range(A.shape[0]):\n",
    "            beta[t, j] = (beta[t + 1] * B[:, V[t + 1]]).dot(A[j, :])\n",
    "\n",
    "    return beta\n",
    "\n",
    "\n",
    "beta = backward(V, A, B)\n",
    "print(beta)"
   ]
  },
  {
   "cell_type": "code",
   "execution_count": 6,
   "metadata": {},
   "outputs": [
    {
     "data": {
      "text/plain": [
       "array([3, 3, 2, 1, 2, 2, 1, 2, 3, 0])"
      ]
     },
     "execution_count": 6,
     "metadata": {},
     "output_type": "execute_result"
    }
   ],
   "source": [
    "V"
   ]
  },
  {
   "cell_type": "code",
   "execution_count": 2,
   "metadata": {},
   "outputs": [
    {
     "data": {
      "text/plain": [
       "array([[0.3, 0.2, 0.2, 0.3],\n",
       "       [0.2, 0.3, 0.2, 0.3],\n",
       "       [0.2, 0.2, 0.3, 0.3],\n",
       "       [0.2, 0.2, 0.2, 0.4]])"
      ]
     },
     "execution_count": 2,
     "metadata": {},
     "output_type": "execute_result"
    }
   ],
   "source": [
    "A"
   ]
  },
  {
   "cell_type": "code",
   "execution_count": 3,
   "metadata": {},
   "outputs": [
    {
     "data": {
      "text/plain": [
       "array([0.2, 0.2, 0.2, 0.4])"
      ]
     },
     "execution_count": 3,
     "metadata": {},
     "output_type": "execute_result"
    }
   ],
   "source": [
    "pi"
   ]
  },
  {
   "cell_type": "code",
   "execution_count": null,
   "metadata": {},
   "outputs": [],
   "source": []
  }
 ],
 "metadata": {
  "kernelspec": {
   "display_name": "Python 3",
   "language": "python",
   "name": "python3"
  },
  "language_info": {
   "codemirror_mode": {
    "name": "ipython",
    "version": 3
   },
   "file_extension": ".py",
   "mimetype": "text/x-python",
   "name": "python",
   "nbconvert_exporter": "python",
   "pygments_lexer": "ipython3",
   "version": "3.6.8"
  }
 },
 "nbformat": 4,
 "nbformat_minor": 2
}
