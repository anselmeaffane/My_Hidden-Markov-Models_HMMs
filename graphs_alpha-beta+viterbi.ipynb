{
 "cells": [
  {
   "cell_type": "code",
   "execution_count": 2,
   "metadata": {},
   "outputs": [
    {
     "name": "stdout",
     "output_type": "stream",
     "text": [
      "[[2.00000000e-02 2.00000000e-02 2.00000000e-02 2.80000000e-01]\n",
      " [7.00000000e-03 7.00000000e-03 7.00000000e-03 9.10000000e-02]\n",
      " [6.93000000e-03 6.93000000e-03 6.93000000e-03 4.27000000e-03]\n",
      " [1.71150000e-03 1.71150000e-03 1.71150000e-03 7.94500000e-04]\n",
      " [4.07085000e-04 4.07085000e-04 4.07085000e-04 1.85815000e-04]\n",
      " [9.66367500e-05 9.66367500e-05 9.66367500e-05 4.40702500e-05]\n",
      " [2.29379325e-05 2.29379325e-05 2.29379325e-05 1.04601175e-05]\n",
      " [5.44457288e-06 5.44457288e-06 5.44457288e-06 2.48281863e-06]\n",
      " [4.30776474e-07 4.30776474e-07 4.30776474e-07 4.12527013e-06]\n",
      " [3.37979267e-07 3.37979267e-07 3.37979267e-07 2.03780688e-07]]\n"
     ]
    }
   ],
   "source": [
    "import pandas as pd\n",
    "import numpy as np\n",
    "\n",
    "import matplotlib\n",
    "from matplotlib import pyplot as plt\n",
    "\n",
    "#states = PATH1, PATH2, PATH3, PATH4 = 0, 1, 2, 3\n",
    "\n",
    "V = np.array([3, 3, 2, 1, 2, 2, 1, 2, 3, 0])\n",
    "\n",
    "# Transition Probabilities\n",
    "A = np.array(((0.3, 0.2, 0.2, 0.3), (0.2, 0.3, 0.2, 0.3), (0.2, 0.2, 0.3, 0.3), (0.2, 0.2, 0.2, 0.4)))\n",
    "\n",
    "# Emission Probabilities\n",
    "B = np.array(((0.3, 0.3, 0.3, 0.1), (0.3, 0.3, 0.3, 0.1), (0.3, 0.3, 0.3, 0.1), (0.1, 0.1, 0.1, 0.7)))\n",
    "\n",
    "# Equal Probabilities for the initial distribution\n",
    "pi = np.array((0.2, 0.2, 0.2, 0.4))\n",
    "\n",
    "\n",
    "def forward(V, A, B, pi):\n",
    "    #We create an empty Alpha array 10 (lines) x 4 (cols)\n",
    "    alpha = np.zeros((V.shape[0], A.shape[0]))\n",
    "    alpha[0, :] = pi * B[:, V[0]]\n",
    "\n",
    "    for t in range(1, V.shape[0]):\n",
    "        for j in range(A.shape[0]):\n",
    "            \n",
    "            alpha[t, j] = alpha[t - 1].dot(A[:, j]) * B[j, V[t]]\n",
    "\n",
    "    return alpha\n",
    "\n",
    "\n",
    "alpha = forward(V, A, B, pi)\n",
    "print(alpha)"
   ]
  },
  {
   "cell_type": "code",
   "execution_count": 3,
   "metadata": {},
   "outputs": [
    {
     "name": "stdout",
     "output_type": "stream",
     "text": [
      "[[3.06232167e-06 3.06232167e-06 3.06232167e-06 3.69278282e-06]\n",
      " [1.17093821e-05 1.17093821e-05 1.17093821e-05 1.06793567e-05]\n",
      " [4.93315275e-05 4.93315275e-05 4.93315275e-05 4.49920450e-05]\n",
      " [2.07833250e-04 2.07833250e-04 2.07833250e-04 1.89551500e-04]\n",
      " [8.75595000e-04 8.75595000e-04 8.75595000e-04 7.98610000e-04]\n",
      " [3.68850000e-03 3.68850000e-03 3.68850000e-03 3.36700000e-03]\n",
      " [1.55100000e-02 1.55100000e-02 1.55100000e-02 1.43800000e-02]\n",
      " [6.30000000e-02 6.30000000e-02 6.30000000e-02 7.60000000e-02]\n",
      " [2.40000000e-01 2.40000000e-01 2.40000000e-01 2.20000000e-01]\n",
      " [1.00000000e+00 1.00000000e+00 1.00000000e+00 1.00000000e+00]]\n"
     ]
    }
   ],
   "source": [
    "def backward(V, A, B):\n",
    "    beta = np.zeros((V.shape[0], A.shape[0]))\n",
    "\n",
    "    # setting beta(T) = 1\n",
    "    beta[V.shape[0] - 1] = np.ones((A.shape[0]))\n",
    "\n",
    "    # Loop in backward way from T-1 to\n",
    "    # Due to python indexing the actual loop will be T-2 to 0\n",
    "    for t in range(V.shape[0] - 2, -1, -1):\n",
    "        for j in range(A.shape[0]):\n",
    "            beta[t, j] = (beta[t + 1] * B[:, V[t + 1]]).dot(A[j, :])\n",
    "\n",
    "    return beta\n",
    "\n",
    "\n",
    "beta = backward(V, A, B)\n",
    "print(beta)"
   ]
  },
  {
   "cell_type": "code",
   "execution_count": 24,
   "metadata": {},
   "outputs": [
    {
     "data": {
      "image/png": "[encoded data removed]",
      "text/plain": [
       "<matplotlib.figure.Figure at 0x7f4d783a81d0>"
      ]
     },
     "metadata": {
      "needs_background": "light"
     },
     "output_type": "display_data"
    },
    {
     "data": {
      "image/png": "[encoded data removed]",
      "text/plain": [
       "<matplotlib.figure.Figure at 0x7f4d783a8828>"
      ]
     },
     "metadata": {
      "needs_background": "light"
     },
     "output_type": "display_data"
    }
   ],
   "source": [
    "plt1 = plt.figure(1) # je crée une figure dont le numéro 1\n",
    "plt.plot(alpha, '-s')\n",
    "#plt1=plt.subplot(121)\n",
    "#plt1.set_title('graphe 1')\n",
    "plt.xlabel('Observation steps')\n",
    "plt.ylabel('Probalility of attack')\n",
    "plt.title('Forward probabilities')\n",
    "#plt.legend((\"Alpha\"), 'best')\n",
    "\n",
    "plt.grid(True)\n",
    "\n",
    "plt.figure(2) # je crée une figure dont le numéro 2\n",
    "plt.plot(beta, '-s')\n",
    "plt.xlabel('Observation steps')\n",
    "plt.ylabel('Probalility of attack')\n",
    "plt.title('Backward probabilities')\n",
    "#plt.subplot(122)\n",
    "\n",
    "plt.grid(True)\n",
    "\n",
    "plt.show()"
   ]
  },
  {
   "cell_type": "code",
   "execution_count": 5,
   "metadata": {},
   "outputs": [
    {
     "data": {
      "text/plain": [
       "array([[2.00000000e-02, 2.00000000e-02, 2.00000000e-02, 2.80000000e-01],\n",
       "       [7.00000000e-03, 7.00000000e-03, 7.00000000e-03, 9.10000000e-02],\n",
       "       [6.93000000e-03, 6.93000000e-03, 6.93000000e-03, 4.27000000e-03],\n",
       "       [1.71150000e-03, 1.71150000e-03, 1.71150000e-03, 7.94500000e-04],\n",
       "       [4.07085000e-04, 4.07085000e-04, 4.07085000e-04, 1.85815000e-04],\n",
       "       [9.66367500e-05, 9.66367500e-05, 9.66367500e-05, 4.40702500e-05],\n",
       "       [2.29379325e-05, 2.29379325e-05, 2.29379325e-05, 1.04601175e-05],\n",
       "       [5.44457288e-06, 5.44457288e-06, 5.44457288e-06, 2.48281863e-06],\n",
       "       [4.30776474e-07, 4.30776474e-07, 4.30776474e-07, 4.12527013e-06],\n",
       "       [3.37979267e-07, 3.37979267e-07, 3.37979267e-07, 2.03780688e-07]])"
      ]
     },
     "execution_count": 5,
     "metadata": {},
     "output_type": "execute_result"
    }
   ],
   "source": [
    "alpha[:,:]"
   ]
  },
  {
   "cell_type": "code",
   "execution_count": 17,
   "metadata": {},
   "outputs": [],
   "source": [
    "states = PATH1, PATH2, PATH3, PATH4 = 0, 1, 2, 3\n",
    "\n",
    "#observations = [PATH4, PATH4, PATH3, PATH2, PATH3, PATH3,PATH2, PATH3, PATH4, PATH1]\n",
    "#V = observations = [3, 3, 2, 1, 2, 2, 1, 2, 3, 0]\n",
    "\n",
    "backpointers = np.zeros((len(V), len(states)), 'int')\n",
    "\n",
    "def viterbi(params, observations):\n",
    "    global backpointers, score, ss\n",
    "    pi, A, B = params\n",
    "    M = len(observations)\n",
    "    S = pi.shape[0]\n",
    "    \n",
    "    alpha = np.zeros((M, S))\n",
    "    alpha[:,:] = float('-inf')\n",
    "    backpointers = np.zeros((M, S), 'int')\n",
    "    \n",
    "    # base case\n",
    "    alpha[0, :] = pi * B[:,observations[0]]\n",
    "    \n",
    "    # recursive case\n",
    "    for t in range(1, M):\n",
    "        for s2 in range(S):\n",
    "            for s1 in range(S):\n",
    "                score = alpha[t-1, s1] * A[s1, s2] * B[s2, observations[t]]\n",
    "                if score > alpha[t, s2]:\n",
    "                    alpha[t, s2] = score\n",
    "                    backpointers[t, s2] = s1\n",
    "    \n",
    "    # now follow backpointers to resolve the state sequence\n",
    "    ss = []\n",
    "    ss.append(np.argmax(alpha[M-1,:]))\n",
    "    for i in range(M-1, 0, -1):\n",
    "        ss.append(backpointers[i, ss[-1]])\n",
    "        \n",
    "    return list(reversed(ss)), np.max(alpha[M-1,:])"
   ]
  },
  {
   "cell_type": "code",
   "execution_count": 18,
   "metadata": {},
   "outputs": [
    {
     "data": {
      "text/plain": [
       "([3, 3, 0, 0, 0, 0, 0, 0, 3, 0], 3.4998578495999976e-10)"
      ]
     },
     "execution_count": 18,
     "metadata": {},
     "output_type": "execute_result"
    }
   ],
   "source": [
    "viterbi((pi, A, B), V)"
   ]
  },
  {
   "cell_type": "code",
   "execution_count": 19,
   "metadata": {},
   "outputs": [
    {
     "data": {
      "text/plain": [
       "[0, 3, 0, 0, 0, 0, 0, 0, 3, 3]"
      ]
     },
     "execution_count": 19,
     "metadata": {},
     "output_type": "execute_result"
    }
   ],
   "source": [
    "ss"
   ]
  },
  {
   "cell_type": "code",
   "execution_count": 20,
   "metadata": {},
   "outputs": [
    {
     "data": {
      "text/plain": [
       "2.3332385663999986e-10"
      ]
     },
     "execution_count": 20,
     "metadata": {},
     "output_type": "execute_result"
    }
   ],
   "source": [
    "score"
   ]
  },
  {
   "cell_type": "code",
   "execution_count": 21,
   "metadata": {},
   "outputs": [
    {
     "data": {
      "text/plain": [
       "array([[0, 0, 0, 0],\n",
       "       [3, 3, 3, 3],\n",
       "       [3, 3, 3, 3],\n",
       "       [0, 1, 2, 0],\n",
       "       [0, 1, 2, 0],\n",
       "       [0, 1, 2, 0],\n",
       "       [0, 1, 2, 0],\n",
       "       [0, 1, 2, 0],\n",
       "       [0, 1, 2, 0],\n",
       "       [3, 3, 3, 3]])"
      ]
     },
     "execution_count": 21,
     "metadata": {},
     "output_type": "execute_result"
    }
   ],
   "source": [
    "backpointers"
   ]
  },
  {
   "cell_type": "code",
   "execution_count": 22,
   "metadata": {},
   "outputs": [
    {
     "data": {
      "text/plain": [
       "array([[2.00000000e-02, 2.00000000e-02, 2.00000000e-02, 2.80000000e-01],\n",
       "       [5.60000000e-03, 5.60000000e-03, 5.60000000e-03, 7.84000000e-02],\n",
       "       [4.70400000e-03, 4.70400000e-03, 4.70400000e-03, 3.13600000e-03],\n",
       "       [4.23360000e-04, 4.23360000e-04, 4.23360000e-04, 1.41120000e-04],\n",
       "       [3.81024000e-05, 3.81024000e-05, 3.81024000e-05, 1.27008000e-05],\n",
       "       [3.42921600e-06, 3.42921600e-06, 3.42921600e-06, 1.14307200e-06],\n",
       "       [3.08629440e-07, 3.08629440e-07, 3.08629440e-07, 1.02876480e-07],\n",
       "       [2.77766496e-08, 2.77766496e-08, 2.77766496e-08, 9.25888320e-09],\n",
       "       [8.33299488e-10, 8.33299488e-10, 8.33299488e-10, 5.83309642e-09],\n",
       "       [3.49985785e-10, 3.49985785e-10, 3.49985785e-10, 2.33323857e-10]])"
      ]
     },
     "execution_count": 22,
     "metadata": {},
     "output_type": "execute_result"
    }
   ],
   "source": [
    "alpha"
   ]
  },
  {
   "cell_type": "code",
   "execution_count": null,
   "metadata": {},
   "outputs": [],
   "source": []
  },
  {
   "cell_type": "code",
   "execution_count": null,
   "metadata": {},
   "outputs": [],
   "source": []
  }
 ],
 "metadata": {
  "kernelspec": {
   "display_name": "Python 3",
   "language": "python",
   "name": "python3"
  },
  "language_info": {
   "codemirror_mode": {
    "name": "ipython",
    "version": 3
   },
   "file_extension": ".py",
   "mimetype": "text/x-python",
   "name": "python",
   "nbconvert_exporter": "python",
   "pygments_lexer": "ipython3",
   "version": "3.6.9"
  }
 },
 "nbformat": 4,
 "nbformat_minor": 2
}
